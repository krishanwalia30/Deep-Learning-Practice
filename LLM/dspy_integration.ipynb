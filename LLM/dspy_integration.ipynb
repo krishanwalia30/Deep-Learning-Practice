{
 "cells": [
  {
   "cell_type": "markdown",
   "metadata": {},
   "source": [
    "## DSPY Integration for enhanced LLM prompting"
   ]
  },
  {
   "cell_type": "code",
   "execution_count": 1,
   "metadata": {},
   "outputs": [
    {
     "name": "stdout",
     "output_type": "stream",
     "text": [
      "Requirement already satisfied: dspy-ai in c:\\users\\krish\\miniconda3\\envs\\genaiprojects\\lib\\site-packages (2.4.9)\n",
      "Requirement already satisfied: backoff~=2.2.1 in c:\\users\\krish\\miniconda3\\envs\\genaiprojects\\lib\\site-packages (from dspy-ai) (2.2.1)\n",
      "Requirement already satisfied: joblib~=1.3.2 in c:\\users\\krish\\miniconda3\\envs\\genaiprojects\\lib\\site-packages (from dspy-ai) (1.3.2)\n",
      "Requirement already satisfied: openai<2.0.0,>=0.28.1 in c:\\users\\krish\\miniconda3\\envs\\genaiprojects\\lib\\site-packages (from dspy-ai) (1.30.1)\n",
      "Requirement already satisfied: pandas in c:\\users\\krish\\miniconda3\\envs\\genaiprojects\\lib\\site-packages (from dspy-ai) (2.2.2)\n",
      "Requirement already satisfied: regex in c:\\users\\krish\\miniconda3\\envs\\genaiprojects\\lib\\site-packages (from dspy-ai) (2024.5.15)\n",
      "Requirement already satisfied: ujson in c:\\users\\krish\\miniconda3\\envs\\genaiprojects\\lib\\site-packages (from dspy-ai) (5.10.0)\n",
      "Requirement already satisfied: tqdm in c:\\users\\krish\\miniconda3\\envs\\genaiprojects\\lib\\site-packages (from dspy-ai) (4.66.4)\n",
      "Requirement already satisfied: datasets<3.0.0,~=2.14.6 in c:\\users\\krish\\miniconda3\\envs\\genaiprojects\\lib\\site-packages (from dspy-ai) (2.14.7)\n",
      "Requirement already satisfied: requests in c:\\users\\krish\\miniconda3\\envs\\genaiprojects\\lib\\site-packages (from dspy-ai) (2.31.0)\n",
      "Requirement already satisfied: optuna in c:\\users\\krish\\miniconda3\\envs\\genaiprojects\\lib\\site-packages (from dspy-ai) (3.6.1)\n",
      "Requirement already satisfied: pydantic~=2.0 in c:\\users\\krish\\miniconda3\\envs\\genaiprojects\\lib\\site-packages (from dspy-ai) (2.7.1)\n",
      "Requirement already satisfied: structlog in c:\\users\\krish\\miniconda3\\envs\\genaiprojects\\lib\\site-packages (from dspy-ai) (24.2.0)\n",
      "Requirement already satisfied: numpy>=1.17 in c:\\users\\krish\\miniconda3\\envs\\genaiprojects\\lib\\site-packages (from datasets<3.0.0,~=2.14.6->dspy-ai) (1.26.4)\n",
      "Requirement already satisfied: pyarrow>=8.0.0 in c:\\users\\krish\\miniconda3\\envs\\genaiprojects\\lib\\site-packages (from datasets<3.0.0,~=2.14.6->dspy-ai) (16.1.0)\n",
      "Requirement already satisfied: pyarrow-hotfix in c:\\users\\krish\\miniconda3\\envs\\genaiprojects\\lib\\site-packages (from datasets<3.0.0,~=2.14.6->dspy-ai) (0.6)\n",
      "Requirement already satisfied: dill<0.3.8,>=0.3.0 in c:\\users\\krish\\miniconda3\\envs\\genaiprojects\\lib\\site-packages (from datasets<3.0.0,~=2.14.6->dspy-ai) (0.3.7)\n",
      "Requirement already satisfied: xxhash in c:\\users\\krish\\miniconda3\\envs\\genaiprojects\\lib\\site-packages (from datasets<3.0.0,~=2.14.6->dspy-ai) (3.4.1)\n",
      "Requirement already satisfied: multiprocess in c:\\users\\krish\\miniconda3\\envs\\genaiprojects\\lib\\site-packages (from datasets<3.0.0,~=2.14.6->dspy-ai) (0.70.15)\n",
      "Requirement already satisfied: fsspec<=2023.10.0,>=2023.1.0 in c:\\users\\krish\\miniconda3\\envs\\genaiprojects\\lib\\site-packages (from fsspec[http]<=2023.10.0,>=2023.1.0->datasets<3.0.0,~=2.14.6->dspy-ai) (2023.10.0)\n",
      "Requirement already satisfied: aiohttp in c:\\users\\krish\\miniconda3\\envs\\genaiprojects\\lib\\site-packages (from datasets<3.0.0,~=2.14.6->dspy-ai) (3.9.5)\n",
      "Requirement already satisfied: huggingface-hub<1.0.0,>=0.14.0 in c:\\users\\krish\\miniconda3\\envs\\genaiprojects\\lib\\site-packages (from datasets<3.0.0,~=2.14.6->dspy-ai) (0.23.2)\n",
      "Requirement already satisfied: packaging in c:\\users\\krish\\miniconda3\\envs\\genaiprojects\\lib\\site-packages (from datasets<3.0.0,~=2.14.6->dspy-ai) (23.2)\n",
      "Requirement already satisfied: pyyaml>=5.1 in c:\\users\\krish\\miniconda3\\envs\\genaiprojects\\lib\\site-packages (from datasets<3.0.0,~=2.14.6->dspy-ai) (6.0.1)\n",
      "Requirement already satisfied: anyio<5,>=3.5.0 in c:\\users\\krish\\miniconda3\\envs\\genaiprojects\\lib\\site-packages (from openai<2.0.0,>=0.28.1->dspy-ai) (4.3.0)\n",
      "Requirement already satisfied: distro<2,>=1.7.0 in c:\\users\\krish\\miniconda3\\envs\\genaiprojects\\lib\\site-packages (from openai<2.0.0,>=0.28.1->dspy-ai) (1.9.0)\n",
      "Requirement already satisfied: httpx<1,>=0.23.0 in c:\\users\\krish\\miniconda3\\envs\\genaiprojects\\lib\\site-packages (from openai<2.0.0,>=0.28.1->dspy-ai) (0.27.0)\n",
      "Requirement already satisfied: sniffio in c:\\users\\krish\\miniconda3\\envs\\genaiprojects\\lib\\site-packages (from openai<2.0.0,>=0.28.1->dspy-ai) (1.3.1)\n",
      "Requirement already satisfied: typing-extensions<5,>=4.7 in c:\\users\\krish\\miniconda3\\envs\\genaiprojects\\lib\\site-packages (from openai<2.0.0,>=0.28.1->dspy-ai) (4.11.0)\n",
      "Requirement already satisfied: annotated-types>=0.4.0 in c:\\users\\krish\\miniconda3\\envs\\genaiprojects\\lib\\site-packages (from pydantic~=2.0->dspy-ai) (0.6.0)\n",
      "Requirement already satisfied: pydantic-core==2.18.2 in c:\\users\\krish\\miniconda3\\envs\\genaiprojects\\lib\\site-packages (from pydantic~=2.0->dspy-ai) (2.18.2)\n",
      "Requirement already satisfied: charset-normalizer<4,>=2 in c:\\users\\krish\\miniconda3\\envs\\genaiprojects\\lib\\site-packages (from requests->dspy-ai) (3.3.2)\n",
      "Requirement already satisfied: idna<4,>=2.5 in c:\\users\\krish\\miniconda3\\envs\\genaiprojects\\lib\\site-packages (from requests->dspy-ai) (3.7)\n",
      "Requirement already satisfied: urllib3<3,>=1.21.1 in c:\\users\\krish\\miniconda3\\envs\\genaiprojects\\lib\\site-packages (from requests->dspy-ai) (2.2.1)\n",
      "Requirement already satisfied: certifi>=2017.4.17 in c:\\users\\krish\\miniconda3\\envs\\genaiprojects\\lib\\site-packages (from requests->dspy-ai) (2024.2.2)\n",
      "Requirement already satisfied: colorama in c:\\users\\krish\\miniconda3\\envs\\genaiprojects\\lib\\site-packages (from tqdm->dspy-ai) (0.4.6)\n",
      "Requirement already satisfied: alembic>=1.5.0 in c:\\users\\krish\\miniconda3\\envs\\genaiprojects\\lib\\site-packages (from optuna->dspy-ai) (1.13.1)\n",
      "Requirement already satisfied: colorlog in c:\\users\\krish\\miniconda3\\envs\\genaiprojects\\lib\\site-packages (from optuna->dspy-ai) (6.8.2)\n",
      "Requirement already satisfied: sqlalchemy>=1.3.0 in c:\\users\\krish\\miniconda3\\envs\\genaiprojects\\lib\\site-packages (from optuna->dspy-ai) (2.0.30)\n",
      "Requirement already satisfied: python-dateutil>=2.8.2 in c:\\users\\krish\\miniconda3\\envs\\genaiprojects\\lib\\site-packages (from pandas->dspy-ai) (2.9.0)\n",
      "Requirement already satisfied: pytz>=2020.1 in c:\\users\\krish\\miniconda3\\envs\\genaiprojects\\lib\\site-packages (from pandas->dspy-ai) (2024.1)\n",
      "Requirement already satisfied: tzdata>=2022.7 in c:\\users\\krish\\miniconda3\\envs\\genaiprojects\\lib\\site-packages (from pandas->dspy-ai) (2024.1)\n",
      "Requirement already satisfied: Mako in c:\\users\\krish\\miniconda3\\envs\\genaiprojects\\lib\\site-packages (from alembic>=1.5.0->optuna->dspy-ai) (1.3.5)\n",
      "Requirement already satisfied: exceptiongroup>=1.0.2 in c:\\users\\krish\\miniconda3\\envs\\genaiprojects\\lib\\site-packages (from anyio<5,>=3.5.0->openai<2.0.0,>=0.28.1->dspy-ai) (1.2.0)\n",
      "Requirement already satisfied: aiosignal>=1.1.2 in c:\\users\\krish\\miniconda3\\envs\\genaiprojects\\lib\\site-packages (from aiohttp->datasets<3.0.0,~=2.14.6->dspy-ai) (1.3.1)\n",
      "Requirement already satisfied: attrs>=17.3.0 in c:\\users\\krish\\miniconda3\\envs\\genaiprojects\\lib\\site-packages (from aiohttp->datasets<3.0.0,~=2.14.6->dspy-ai) (23.2.0)\n",
      "Requirement already satisfied: frozenlist>=1.1.1 in c:\\users\\krish\\miniconda3\\envs\\genaiprojects\\lib\\site-packages (from aiohttp->datasets<3.0.0,~=2.14.6->dspy-ai) (1.4.1)\n",
      "Requirement already satisfied: multidict<7.0,>=4.5 in c:\\users\\krish\\miniconda3\\envs\\genaiprojects\\lib\\site-packages (from aiohttp->datasets<3.0.0,~=2.14.6->dspy-ai) (6.0.5)\n",
      "Requirement already satisfied: yarl<2.0,>=1.0 in c:\\users\\krish\\miniconda3\\envs\\genaiprojects\\lib\\site-packages (from aiohttp->datasets<3.0.0,~=2.14.6->dspy-ai) (1.9.4)\n",
      "Requirement already satisfied: async-timeout<5.0,>=4.0 in c:\\users\\krish\\miniconda3\\envs\\genaiprojects\\lib\\site-packages (from aiohttp->datasets<3.0.0,~=2.14.6->dspy-ai) (4.0.3)\n",
      "Requirement already satisfied: httpcore==1.* in c:\\users\\krish\\miniconda3\\envs\\genaiprojects\\lib\\site-packages (from httpx<1,>=0.23.0->openai<2.0.0,>=0.28.1->dspy-ai) (1.0.5)\n",
      "Requirement already satisfied: h11<0.15,>=0.13 in c:\\users\\krish\\miniconda3\\envs\\genaiprojects\\lib\\site-packages (from httpcore==1.*->httpx<1,>=0.23.0->openai<2.0.0,>=0.28.1->dspy-ai) (0.14.0)\n",
      "Requirement already satisfied: filelock in c:\\users\\krish\\miniconda3\\envs\\genaiprojects\\lib\\site-packages (from huggingface-hub<1.0.0,>=0.14.0->datasets<3.0.0,~=2.14.6->dspy-ai) (3.14.0)\n",
      "Requirement already satisfied: six>=1.5 in c:\\users\\krish\\miniconda3\\envs\\genaiprojects\\lib\\site-packages (from python-dateutil>=2.8.2->pandas->dspy-ai) (1.16.0)\n",
      "Requirement already satisfied: greenlet!=0.4.17 in c:\\users\\krish\\miniconda3\\envs\\genaiprojects\\lib\\site-packages (from sqlalchemy>=1.3.0->optuna->dspy-ai) (3.0.3)\n",
      "Requirement already satisfied: MarkupSafe>=0.9.2 in c:\\users\\krish\\miniconda3\\envs\\genaiprojects\\lib\\site-packages (from Mako->alembic>=1.5.0->optuna->dspy-ai) (2.1.5)\n"
     ]
    }
   ],
   "source": [
    "!pip install dspy-ai"
   ]
  },
  {
   "cell_type": "code",
   "execution_count": 2,
   "metadata": {},
   "outputs": [
    {
     "name": "stderr",
     "output_type": "stream",
     "text": [
      "c:\\Users\\krish\\miniconda3\\envs\\genAIProjects\\lib\\site-packages\\tqdm\\auto.py:21: TqdmWarning: IProgress not found. Please update jupyter and ipywidgets. See https://ipywidgets.readthedocs.io/en/stable/user_install.html\n",
      "  from .autonotebook import tqdm as notebook_tqdm\n"
     ]
    }
   ],
   "source": [
    "import dspy \n",
    "\n",
    "class BetterSentence(dspy.Signature):\n",
    "    \"\"\"Compare the two sentences and return the one which is more grammatically correct\"\"\"\n",
    "    sentence1 = dspy.InputField()\n",
    "    sentence2 = dspy.InputField()\n",
    "    best_sentence = dspy.OutputField()"
   ]
  },
  {
   "cell_type": "code",
   "execution_count": 4,
   "metadata": {},
   "outputs": [],
   "source": [
    "from langchain_google_genai import ChatGoogleGenerativeAI\n",
    "import google.generativeai as genai\n",
    "import os \n",
    "\n",
    "os.environ[\"GOOGLE_API_KEY\"] = \"<Your_GOOGLE_API_KEY>\"\n",
    "genai.configure(api_key=os.environ[\"GOOGLE_API_KEY\"])\n",
    "# model = ChatGoogleGenerativeAI(model='models/gemini-1.5-pro-latest', temperature=0.4)\n",
    "gemini = dspy.Google(model='gemini-1.5-pro-latest', api_key=os.environ[\"GOOGLE_API_KEY\"], temperature=0.5)"
   ]
  },
  {
   "cell_type": "code",
   "execution_count": 5,
   "metadata": {},
   "outputs": [],
   "source": [
    "dspy.settings.configure(lm=gemini)\n",
    "\n",
    "from dspy.signatures.signature import signature_to_template\n",
    "\n",
    "better_sentence_as_template = signature_to_template(BetterSentence)"
   ]
  },
  {
   "cell_type": "code",
   "execution_count": 6,
   "metadata": {},
   "outputs": [
    {
     "name": "stdout",
     "output_type": "stream",
     "text": [
      "Template(Compare the two sentences and return the one which is more grammatically correct, ['Sentence 1:', 'Sentence 2:', 'Best Sentence:'])\n"
     ]
    }
   ],
   "source": [
    "print(better_sentence_as_template)"
   ]
  },
  {
   "cell_type": "code",
   "execution_count": 7,
   "metadata": {},
   "outputs": [],
   "source": [
    "class CoT(dspy.Module):\n",
    "    def __init__(self):\n",
    "        super().__init__()\n",
    "        self.program = dspy.ChainOfThought(BetterSentence)\n",
    "\n",
    "    def forward(self, sentence1, sentence2):\n",
    "        return self.program(sentence1=sentence1, sentence2=sentence2)"
   ]
  },
  {
   "cell_type": "code",
   "execution_count": 8,
   "metadata": {},
   "outputs": [],
   "source": [
    "c = CoT()\n",
    "a = c.forward(sentence1='I reading books and curating better articles for my readers.', sentence2='I enjoy reading books and curating better articles for my newletter readers.')"
   ]
  },
  {
   "cell_type": "code",
   "execution_count": 9,
   "metadata": {},
   "outputs": [
    {
     "data": {
      "text/plain": [
       "Prediction(\n",
       "    rationale='Sentence 1: I reading books and curating better articles for my readers.\\n\\nSentence 2: I enjoy reading books and curating better articles for my newsletter readers.\\n\\nReasoning: Let\\'s think step by step in order to produce the best sentence. We need to make sure the sentence has a subject, verb, and object and that they all agree. Sentence 1 is missing a verb.  Sentence 2 includes a verb, \"enjoy\" and also clarifies who the readers are.',\n",
       "    best_sentence='I enjoy reading books and curating better articles for my newsletter readers.'\n",
       ")"
      ]
     },
     "execution_count": 9,
     "metadata": {},
     "output_type": "execute_result"
    }
   ],
   "source": [
    "a"
   ]
  },
  {
   "cell_type": "code",
   "execution_count": 12,
   "metadata": {},
   "outputs": [
    {
     "name": "stdout",
     "output_type": "stream",
     "text": [
      "I enjoy reading books and curating better articles for my newsletter readers.\n"
     ]
    }
   ],
   "source": [
    "print(a.best_sentence)"
   ]
  },
  {
   "cell_type": "code",
   "execution_count": null,
   "metadata": {},
   "outputs": [],
   "source": []
  }
 ],
 "metadata": {
  "kernelspec": {
   "display_name": "genAIProjects",
   "language": "python",
   "name": "python3"
  },
  "language_info": {
   "codemirror_mode": {
    "name": "ipython",
    "version": 3
   },
   "file_extension": ".py",
   "mimetype": "text/x-python",
   "name": "python",
   "nbconvert_exporter": "python",
   "pygments_lexer": "ipython3",
   "version": "3.10.14"
  }
 },
 "nbformat": 4,
 "nbformat_minor": 2
}
