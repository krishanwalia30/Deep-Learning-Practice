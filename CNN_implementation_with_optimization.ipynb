{
  "cells": [
    {
      "cell_type": "code",
      "execution_count": 1,
      "metadata": {
        "colab": {
          "base_uri": "https://localhost:8080/"
        },
        "id": "7hfjSGY4Sv7J",
        "outputId": "7936c362-4b08-45ea-d0ed-ca71d54a1d44"
      },
      "outputs": [
        {
          "name": "stdout",
          "output_type": "stream",
          "text": [
            "Collecting keras-tuner\n",
            "  Downloading keras_tuner-1.4.7-py3-none-any.whl (129 kB)\n",
            "\u001b[?25l     \u001b[90m━━━━━━━━━━━━━━━━━━━━━━━━━━━━━━━━━━━━━━━━\u001b[0m \u001b[32m0.0/129.1 kB\u001b[0m \u001b[31m?\u001b[0m eta \u001b[36m-:--:--\u001b[0m\r\u001b[2K     \u001b[90m━━━━━━━━━━━━━━━━━━━━━━━━━━━━━━━━━━━━━━━━\u001b[0m \u001b[32m129.1/129.1 kB\u001b[0m \u001b[31m4.3 MB/s\u001b[0m eta \u001b[36m0:00:00\u001b[0m\n",
            "\u001b[?25hRequirement already satisfied: keras in /usr/local/lib/python3.10/dist-packages (from keras-tuner) (2.15.0)\n",
            "Requirement already satisfied: packaging in /usr/local/lib/python3.10/dist-packages (from keras-tuner) (24.0)\n",
            "Requirement already satisfied: requests in /usr/local/lib/python3.10/dist-packages (from keras-tuner) (2.31.0)\n",
            "Collecting kt-legacy (from keras-tuner)\n",
            "  Downloading kt_legacy-1.0.5-py3-none-any.whl (9.6 kB)\n",
            "Requirement already satisfied: charset-normalizer<4,>=2 in /usr/local/lib/python3.10/dist-packages (from requests->keras-tuner) (3.3.2)\n",
            "Requirement already satisfied: idna<4,>=2.5 in /usr/local/lib/python3.10/dist-packages (from requests->keras-tuner) (3.7)\n",
            "Requirement already satisfied: urllib3<3,>=1.21.1 in /usr/local/lib/python3.10/dist-packages (from requests->keras-tuner) (2.0.7)\n",
            "Requirement already satisfied: certifi>=2017.4.17 in /usr/local/lib/python3.10/dist-packages (from requests->keras-tuner) (2024.2.2)\n",
            "Installing collected packages: kt-legacy, keras-tuner\n",
            "Successfully installed keras-tuner-1.4.7 kt-legacy-1.0.5\n"
          ]
        }
      ],
      "source": [
        "!pip install  keras-tuner"
      ]
    },
    {
      "cell_type": "code",
      "execution_count": 2,
      "metadata": {
        "id": "x2EgBK1cTkUQ"
      },
      "outputs": [],
      "source": [
        "import tensorflow as tf\n",
        "from tensorflow import keras\n",
        "import numpy as np"
      ]
    },
    {
      "cell_type": "code",
      "execution_count": 3,
      "metadata": {
        "colab": {
          "base_uri": "https://localhost:8080/"
        },
        "id": "k1bOXJPmTwjk",
        "outputId": "46896f14-997c-4250-9087-083dd2e5114b"
      },
      "outputs": [
        {
          "name": "stdout",
          "output_type": "stream",
          "text": [
            "2.15.0\n"
          ]
        }
      ],
      "source": [
        "print(tf.__version__)"
      ]
    },
    {
      "cell_type": "code",
      "execution_count": 4,
      "metadata": {
        "id": "MgKm7sMDTzNQ"
      },
      "outputs": [],
      "source": [
        "fashion_mnist = keras.datasets.fashion_mnist"
      ]
    },
    {
      "cell_type": "code",
      "execution_count": 5,
      "metadata": {
        "colab": {
          "base_uri": "https://localhost:8080/"
        },
        "id": "bT1Zh6XzUHWv",
        "outputId": "6ecf78b8-bf47-4954-b80c-0b38b806522a"
      },
      "outputs": [
        {
          "name": "stdout",
          "output_type": "stream",
          "text": [
            "Downloading data from https://storage.googleapis.com/tensorflow/tf-keras-datasets/train-labels-idx1-ubyte.gz\n",
            "29515/29515 [==============================] - 0s 0us/step\n",
            "Downloading data from https://storage.googleapis.com/tensorflow/tf-keras-datasets/train-images-idx3-ubyte.gz\n",
            "26421880/26421880 [==============================] - 2s 0us/step\n",
            "Downloading data from https://storage.googleapis.com/tensorflow/tf-keras-datasets/t10k-labels-idx1-ubyte.gz\n",
            "5148/5148 [==============================] - 0s 0us/step\n",
            "Downloading data from https://storage.googleapis.com/tensorflow/tf-keras-datasets/t10k-images-idx3-ubyte.gz\n",
            "4422102/4422102 [==============================] - 1s 0us/step\n"
          ]
        }
      ],
      "source": [
        "(train_images, train_labels), (test_images, test_labels) = fashion_mnist.load_data()"
      ]
    },
    {
      "cell_type": "code",
      "execution_count": 6,
      "metadata": {
        "id": "L1-MxXyeUUdh"
      },
      "outputs": [],
      "source": [
        "train_images = train_images/255.0\n",
        "test_images = test_images/255.0"
      ]
    },
    {
      "cell_type": "code",
      "execution_count": 8,
      "metadata": {
        "colab": {
          "base_uri": "https://localhost:8080/"
        },
        "id": "cDtmW2jqUhye",
        "outputId": "9e611d38-c4ba-4baa-b058-492f58d6e1ae"
      },
      "outputs": [
        {
          "data": {
            "text/plain": [
              "(28, 28)"
            ]
          },
          "execution_count": 8,
          "metadata": {},
          "output_type": "execute_result"
        }
      ],
      "source": [
        "train_images[0].shape"
      ]
    },
    {
      "cell_type": "code",
      "execution_count": 9,
      "metadata": {
        "id": "dHb_Y9XSUmTn"
      },
      "outputs": [],
      "source": [
        "# resizing the images to the req size\n",
        "train_images = train_images.reshape(len(train_images),28,28,1)\n",
        "test_images = test_images.reshape(len(test_images),28,28,1)"
      ]
    },
    {
      "cell_type": "code",
      "execution_count": 10,
      "metadata": {
        "colab": {
          "base_uri": "https://localhost:8080/"
        },
        "id": "zE1siZW4U8fe",
        "outputId": "6af9b933-c297-4779-c6a8-ce67765a4d8b"
      },
      "outputs": [
        {
          "data": {
            "text/plain": [
              "(28, 28, 1)"
            ]
          },
          "execution_count": 10,
          "metadata": {},
          "output_type": "execute_result"
        }
      ],
      "source": [
        "train_images[0].shape"
      ]
    },
    {
      "cell_type": "code",
      "execution_count": 11,
      "metadata": {
        "id": "tp2SRIEwVCLg"
      },
      "outputs": [],
      "source": [
        "def build_model(hp):\n",
        "  model = keras.Sequential(\n",
        "      [\n",
        "          keras.layers.Conv2D(\n",
        "              filters = hp.Int('conv_1_filter', min_value=32, max_value=128, step=16),\n",
        "              kernel_size = hp.Choice('conv_1_kernel', values=[3,5]),\n",
        "              activation = 'relu',\n",
        "              input_shape = (28,28,1)\n",
        "          ),\n",
        "          keras.layers.Conv2D(\n",
        "              filters = hp.Int('conv_2_filter', min_value=32,max_value=64, step=16),\n",
        "              kernel_size = hp.Choice('conv_1_kernel', values=[3,5]),\n",
        "              activation = 'relu',\n",
        "          ),\n",
        "          keras.layers.Flatten(),\n",
        "          keras.layers.Dense(\n",
        "              units = hp.Int('dense_1_units', min_value=32, max_value=128, step=16),\n",
        "              activation = 'relu'\n",
        "          ),\n",
        "          keras.layers.Dense(10, activation='softmax')\n",
        "      ]\n",
        "  )\n",
        "\n",
        "  model.compile(\n",
        "      optimizer= keras.optimizers.Adam(hp.Choice('learning_rate', values=[1e-2,1e-3])),\n",
        "      loss = 'sparse_categorical_crossentropy',\n",
        "      metrics=['accuracy']\n",
        "      )\n",
        "\n",
        "  return model\n"
      ]
    },
    {
      "cell_type": "code",
      "execution_count": 15,
      "metadata": {
        "colab": {
          "base_uri": "https://localhost:8080/"
        },
        "id": "kYu-YZ0vX3Sr",
        "outputId": "1629c43e-7b0f-4cf4-9efa-0463b11219df"
      },
      "outputs": [
        {
          "name": "stderr",
          "output_type": "stream",
          "text": [
            "<ipython-input-15-dce6bfdf082c>:1: DeprecationWarning: `import kerastuner` is deprecated, please use `import keras_tuner`.\n",
            "  from kerastuner import RandomSearch\n"
          ]
        }
      ],
      "source": [
        "from kerastuner import RandomSearch\n",
        "from kerastuner.engine.hyperparameters import HyperParameters"
      ]
    },
    {
      "cell_type": "code",
      "execution_count": 17,
      "metadata": {
        "id": "Bh_dJi9bYEOt"
      },
      "outputs": [],
      "source": [
        "tuner_search = RandomSearch(build_model,\n",
        "                            objective='val_accuracy',\n",
        "                            max_trials=5,\n",
        "                            directory='output',\n",
        "                            project_name='mnist_fashion'\n",
        "                            )"
      ]
    },
    {
      "cell_type": "code",
      "execution_count": 18,
      "metadata": {
        "colab": {
          "base_uri": "https://localhost:8080/"
        },
        "id": "sJQhfqvIY02T",
        "outputId": "01b85172-5d3c-4350-c611-c41f5b44dcce"
      },
      "outputs": [
        {
          "name": "stdout",
          "output_type": "stream",
          "text": [
            "Trial 5 Complete [00h 00m 26s]\n",
            "val_accuracy: 0.9076666831970215\n",
            "\n",
            "Best val_accuracy So Far: 0.9086666703224182\n",
            "Total elapsed time: 00h 03m 05s\n"
          ]
        }
      ],
      "source": [
        "tuner_search.search(train_images, train_labels, epochs=3, validation_split=0.1)"
      ]
    },
    {
      "cell_type": "code",
      "execution_count": 21,
      "metadata": {
        "id": "iBMjT5QXZN6K"
      },
      "outputs": [],
      "source": [
        "model = tuner_search.get_best_models(num_models=1)[0]"
      ]
    },
    {
      "cell_type": "code",
      "execution_count": 23,
      "metadata": {
        "colab": {
          "base_uri": "https://localhost:8080/"
        },
        "id": "GpO_qvXybFLd",
        "outputId": "bda0722d-a6ce-4f0f-8cde-ec264c822cb3"
      },
      "outputs": [
        {
          "name": "stdout",
          "output_type": "stream",
          "text": [
            "Model: \"sequential\"\n",
            "_________________________________________________________________\n",
            " Layer (type)                Output Shape              Param #   \n",
            "=================================================================\n",
            " conv2d (Conv2D)             (None, 26, 26, 128)       1280      \n",
            "                                                                 \n",
            " conv2d_1 (Conv2D)           (None, 24, 24, 48)        55344     \n",
            "                                                                 \n",
            " flatten (Flatten)           (None, 27648)             0         \n",
            "                                                                 \n",
            " dense (Dense)               (None, 96)                2654304   \n",
            "                                                                 \n",
            " dense_1 (Dense)             (None, 10)                970       \n",
            "                                                                 \n",
            "=================================================================\n",
            "Total params: 2711898 (10.35 MB)\n",
            "Trainable params: 2711898 (10.35 MB)\n",
            "Non-trainable params: 0 (0.00 Byte)\n",
            "_________________________________________________________________\n"
          ]
        }
      ],
      "source": [
        "model.summary()"
      ]
    },
    {
      "cell_type": "code",
      "execution_count": 24,
      "metadata": {
        "colab": {
          "base_uri": "https://localhost:8080/"
        },
        "id": "dOe0OOpebMTl",
        "outputId": "d0f1a8b7-a551-4461-b356-6fbf4c307a69"
      },
      "outputs": [
        {
          "name": "stdout",
          "output_type": "stream",
          "text": [
            "Epoch 4/15\n",
            "1688/1688 [==============================] - 11s 6ms/step - loss: 0.1765 - accuracy: 0.9346 - val_loss: 0.2428 - val_accuracy: 0.9137\n",
            "Epoch 5/15\n",
            "1688/1688 [==============================] - 9s 6ms/step - loss: 0.1243 - accuracy: 0.9544 - val_loss: 0.3058 - val_accuracy: 0.9085\n",
            "Epoch 6/15\n",
            "1688/1688 [==============================] - 9s 6ms/step - loss: 0.0857 - accuracy: 0.9685 - val_loss: 0.3101 - val_accuracy: 0.9152\n",
            "Epoch 7/15\n",
            "1688/1688 [==============================] - 9s 5ms/step - loss: 0.0593 - accuracy: 0.9788 - val_loss: 0.3515 - val_accuracy: 0.9148\n",
            "Epoch 8/15\n",
            "1688/1688 [==============================] - 9s 6ms/step - loss: 0.0400 - accuracy: 0.9854 - val_loss: 0.4039 - val_accuracy: 0.9138\n",
            "Epoch 9/15\n",
            "1688/1688 [==============================] - 11s 6ms/step - loss: 0.0304 - accuracy: 0.9889 - val_loss: 0.4500 - val_accuracy: 0.9128\n",
            "Epoch 10/15\n",
            "1688/1688 [==============================] - 9s 6ms/step - loss: 0.0246 - accuracy: 0.9915 - val_loss: 0.4566 - val_accuracy: 0.9193\n",
            "Epoch 11/15\n",
            "1688/1688 [==============================] - 9s 6ms/step - loss: 0.0209 - accuracy: 0.9928 - val_loss: 0.5245 - val_accuracy: 0.9120\n",
            "Epoch 12/15\n",
            "1688/1688 [==============================] - 9s 5ms/step - loss: 0.0173 - accuracy: 0.9942 - val_loss: 0.5740 - val_accuracy: 0.9137\n",
            "Epoch 13/15\n",
            "1688/1688 [==============================] - 9s 5ms/step - loss: 0.0149 - accuracy: 0.9946 - val_loss: 0.6617 - val_accuracy: 0.9103\n",
            "Epoch 14/15\n",
            "1688/1688 [==============================] - 9s 6ms/step - loss: 0.0153 - accuracy: 0.9949 - val_loss: 0.5589 - val_accuracy: 0.9100\n",
            "Epoch 15/15\n",
            "1688/1688 [==============================] - 9s 6ms/step - loss: 0.0119 - accuracy: 0.9961 - val_loss: 0.7420 - val_accuracy: 0.9098\n"
          ]
        },
        {
          "data": {
            "text/plain": [
              "<keras.src.callbacks.History at 0x796f9c1408b0>"
            ]
          },
          "execution_count": 24,
          "metadata": {},
          "output_type": "execute_result"
        }
      ],
      "source": [
        "model.fit(train_images, train_labels, epochs=15, validation_split=0.1, initial_epoch=3)"
      ]
    },
    {
      "cell_type": "code",
      "execution_count": null,
      "metadata": {
        "id": "jn6WgO3ibkDh"
      },
      "outputs": [],
      "source": []
    }
  ],
  "metadata": {
    "accelerator": "GPU",
    "colab": {
      "gpuType": "T4",
      "provenance": []
    },
    "kernelspec": {
      "display_name": "Python 3",
      "name": "python3"
    },
    "language_info": {
      "name": "python",
      "version": "3.11.6"
    }
  },
  "nbformat": 4,
  "nbformat_minor": 0
}
