{
 "cells": [
  {
   "cell_type": "code",
   "execution_count": 1,
   "metadata": {},
   "outputs": [],
   "source": [
    "from tensorflow.keras.models import Model, Sequential \n",
    "from tensorflow.keras.layers import *"
   ]
  },
  {
   "cell_type": "code",
   "execution_count": 2,
   "metadata": {},
   "outputs": [
    {
     "name": "stdout",
     "output_type": "stream",
     "text": [
      "WARNING:tensorflow:From c:\\Users\\krish\\AppData\\Local\\Programs\\Python\\Python311\\Lib\\site-packages\\keras\\src\\backend.py:873: The name tf.get_default_graph is deprecated. Please use tf.compat.v1.get_default_graph instead.\n",
      "\n",
      "<__main__.ResNetBlock object at 0x0000020BC5CC0890>\n"
     ]
    }
   ],
   "source": [
    "class ResNetBlock(Layer):\n",
    "    def __init__(self, out_channels, first_stride=1):\n",
    "        super().__init__()\n",
    "\n",
    "        first_padding = 'same'\n",
    "        if first_stride != 1:\n",
    "            first_padding = 'valid'\n",
    "\n",
    "        self.conv_sequence = Sequential([\n",
    "            Conv2D(out_channels, 3, first_stride, padding=first_padding),\n",
    "            BatchNormalization(),\n",
    "            ReLU(),\n",
    "\n",
    "            Conv2D(out_channels,3,1,padding='same'),\n",
    "            BatchNormalization(),\n",
    "            ReLU(),\n",
    "        ])\n",
    "\n",
    "    def call(self, inputs):\n",
    "        x = self.conv_sequence(inputs) \n",
    "\n",
    "        if x.shape == inputs.shape:\n",
    "            x = x + inputs  # Skip Connection \n",
    "        \n",
    "        return x \n",
    "\n",
    "layer = ResNetBlock(4)\n",
    "print(layer)\n",
    "        "
   ]
  },
  {
   "cell_type": "code",
   "execution_count": 25,
   "metadata": {},
   "outputs": [
    {
     "name": "stdout",
     "output_type": "stream",
     "text": [
      "<__main__.ResNet object at 0x0000020BD117E9D0>\n"
     ]
    }
   ],
   "source": [
    "class ResNet(Model):\n",
    "    def __init__(self):\n",
    "        super(ResNet, self).__init__()\n",
    "\n",
    "        self.conv_1 = Sequential([\n",
    "            Conv2D(64,7,2),\n",
    "            ReLU(),\n",
    "            MaxPooling2D(3,2),\n",
    "        ])\n",
    "\n",
    "        self.resnet_chains = Sequential(\n",
    "            [\n",
    "                ResNetBlock(64), \n",
    "                ResNetBlock(64),\n",
    "            ]\n",
    "            +\n",
    "            [\n",
    "                ResNetBlock(128,2),\n",
    "                ResNetBlock(128),\n",
    "            ]\n",
    "            +\n",
    "            [\n",
    "                ResNetBlock(256,2),\n",
    "                ResNetBlock(256),\n",
    "            ]\n",
    "            +\n",
    "            [\n",
    "                ResNetBlock(512,2),\n",
    "                ResNetBlock(512),\n",
    "            ])\n",
    "        \n",
    "        self.out = Sequential([\n",
    "            GlobalAveragePooling2D(),\n",
    "            Dense(1, activation='sigmoid')\n",
    "        ])\n",
    "\n",
    "    def call(self,x):\n",
    "        x = self.conv_1(x)\n",
    "        x = self.resnet_chains(x)\n",
    "        x = self.out(x)\n",
    "\n",
    "        return x\n",
    "    \n",
    "model = ResNet()\n",
    "print(model)"
   ]
  },
  {
   "cell_type": "code",
   "execution_count": 26,
   "metadata": {},
   "outputs": [],
   "source": [
    "model.build(input_shape=(1, 224,224,3))"
   ]
  },
  {
   "cell_type": "code",
   "execution_count": 27,
   "metadata": {},
   "outputs": [
    {
     "name": "stdout",
     "output_type": "stream",
     "text": [
      "Model: \"res_net_4\"\n",
      "_________________________________________________________________\n",
      " Layer (type)                Output Shape              Param #   \n",
      "=================================================================\n",
      " sequential_45 (Sequential)  (1, 54, 54, 64)           9472      \n",
      "                                                                 \n",
      " sequential_54 (Sequential)  (1, 5, 5, 512)            11004672  \n",
      "                                                                 \n",
      " sequential_55 (Sequential)  (1, 1)                    513       \n",
      "                                                                 \n",
      "=================================================================\n",
      "Total params: 11014657 (42.02 MB)\n",
      "Trainable params: 11006977 (41.99 MB)\n",
      "Non-trainable params: 7680 (30.00 KB)\n",
      "_________________________________________________________________\n"
     ]
    }
   ],
   "source": [
    "model.summary()"
   ]
  },
  {
   "cell_type": "code",
   "execution_count": null,
   "metadata": {},
   "outputs": [],
   "source": []
  }
 ],
 "metadata": {
  "kernelspec": {
   "display_name": "Python 3",
   "language": "python",
   "name": "python3"
  },
  "language_info": {
   "codemirror_mode": {
    "name": "ipython",
    "version": 3
   },
   "file_extension": ".py",
   "mimetype": "text/x-python",
   "name": "python",
   "nbconvert_exporter": "python",
   "pygments_lexer": "ipython3",
   "version": "3.11.6"
  }
 },
 "nbformat": 4,
 "nbformat_minor": 2
}
