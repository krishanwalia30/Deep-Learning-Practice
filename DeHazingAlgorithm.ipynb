{
 "cells": [
  {
   "cell_type": "code",
   "execution_count": 2,
   "metadata": {},
   "outputs": [],
   "source": [
    "import pandas as pd\n",
    "import numpy as np\n",
    "import matplotlib.pyplot as plt\n",
    "from PIL import Image"
   ]
  },
  {
   "cell_type": "code",
   "execution_count": 12,
   "metadata": {},
   "outputs": [
    {
     "name": "stdout",
     "output_type": "stream",
     "text": [
      "[[[ 13  17  23 255]\n",
      "  [ 13  17  23 255]\n",
      "  [ 13  17  23 255]\n",
      "  ...\n",
      "  [ 13  17  23 255]\n",
      "  [ 13  17  23 255]\n",
      "  [ 13  17  23 255]]\n",
      "\n",
      " [[ 13  17  23 255]\n",
      "  [ 13  17  23 255]\n",
      "  [ 13  17  23 255]\n",
      "  ...\n",
      "  [ 13  17  23 255]\n",
      "  [ 13  17  23 255]\n",
      "  [ 13  17  23 255]]\n",
      "\n",
      " [[ 13  17  23 255]\n",
      "  [ 13  17  23 255]\n",
      "  [ 13  17  23 255]\n",
      "  ...\n",
      "  [ 13  17  23 255]\n",
      "  [ 13  17  23 255]\n",
      "  [ 13  17  23 255]]\n",
      "\n",
      " ...\n",
      "\n",
      " [[ 13  17  23 255]\n",
      "  [ 13  17  23 255]\n",
      "  [ 13  17  23 255]\n",
      "  ...\n",
      "  [ 13  17  23 255]\n",
      "  [ 13  17  23 255]\n",
      "  [ 13  17  23 255]]\n",
      "\n",
      " [[ 13  17  23 255]\n",
      "  [ 13  17  23 255]\n",
      "  [ 13  17  23 255]\n",
      "  ...\n",
      "  [ 13  17  23 255]\n",
      "  [ 13  17  23 255]\n",
      "  [ 13  17  23 255]]\n",
      "\n",
      " [[ 13  17  23 255]\n",
      "  [ 13  17  23 255]\n",
      "  [ 13  17  23 255]\n",
      "  ...\n",
      "  [ 13  17  23 255]\n",
      "  [ 13  17  23 255]\n",
      "  [ 13  17  23 255]]]\n"
     ]
    }
   ],
   "source": [
    "img = np.asarray(Image.open('test.png'))\n",
    "image = Image.open('test.png')\n",
    "print(img)"
   ]
  },
  {
   "cell_type": "code",
   "execution_count": 13,
   "metadata": {},
   "outputs": [
    {
     "data": {
      "text/plain": [
       "(196, 197, 4)"
      ]
     },
     "execution_count": 13,
     "metadata": {},
     "output_type": "execute_result"
    }
   ],
   "source": [
    "img.shape"
   ]
  },
  {
   "cell_type": "code",
   "execution_count": 15,
   "metadata": {},
   "outputs": [],
   "source": [
    "new_image = image.resize((196, 196))"
   ]
  },
  {
   "cell_type": "code",
   "execution_count": 21,
   "metadata": {},
   "outputs": [
    {
     "data": {
      "text/plain": [
       "(196, 196, 4)"
      ]
     },
     "execution_count": 21,
     "metadata": {},
     "output_type": "execute_result"
    }
   ],
   "source": [
    "numpy_image = np.asarray(new_image)\n",
    "numpy_image.shape"
   ]
  },
  {
   "cell_type": "code",
   "execution_count": 28,
   "metadata": {},
   "outputs": [
    {
     "data": {
      "text/plain": [
       "array([ 13,  17,  23, 255], dtype=uint8)"
      ]
     },
     "execution_count": 28,
     "metadata": {},
     "output_type": "execute_result"
    }
   ],
   "source": [
    "numpy_image[0][195]"
   ]
  },
  {
   "cell_type": "code",
   "execution_count": 41,
   "metadata": {},
   "outputs": [],
   "source": [
    "dark_image = np.ones((2,2,1), dtype=int)\n",
    "for i in range(2):\n",
    "    for j in range(2):\n",
    "        dark_image[i][j] = 5"
   ]
  },
  {
   "cell_type": "code",
   "execution_count": 42,
   "metadata": {},
   "outputs": [
    {
     "data": {
      "text/plain": [
       "array([[[5],\n",
       "        [5]],\n",
       "\n",
       "       [[5],\n",
       "        [5]]])"
      ]
     },
     "execution_count": 42,
     "metadata": {},
     "output_type": "execute_result"
    }
   ],
   "source": [
    "dark_image"
   ]
  },
  {
   "cell_type": "code",
   "execution_count": 44,
   "metadata": {},
   "outputs": [
    {
     "data": {
      "text/plain": [
       "<matplotlib.image.AxesImage at 0x208ed6bc250>"
      ]
     },
     "execution_count": 44,
     "metadata": {},
     "output_type": "execute_result"
    },
    {
     "data": {
      "image/png": "[encoded data removed]",
      "text/plain": [
       "<Figure size 640x480 with 1 Axes>"
      ]
     },
     "metadata": {},
     "output_type": "display_data"
    }
   ],
   "source": [
    "plt.imshow(dark_image)"
   ]
  },
  {
   "cell_type": "code",
   "execution_count": 40,
   "metadata": {},
   "outputs": [
    {
     "ename": "ValueError",
     "evalue": "cannot reshape array of size 16 into shape (2,2,1)",
     "output_type": "error",
     "traceback": [
      "\u001b[1;31m---------------------------------------------------------------------------\u001b[0m",
      "\u001b[1;31mValueError\u001b[0m                                Traceback (most recent call last)",
      "Cell \u001b[1;32mIn[40], line 1\u001b[0m\n\u001b[1;32m----> 1\u001b[0m \u001b[43mdark_image\u001b[49m\u001b[38;5;241;43m.\u001b[39;49m\u001b[43mreshape\u001b[49m\u001b[43m(\u001b[49m\u001b[43m(\u001b[49m\u001b[38;5;241;43m2\u001b[39;49m\u001b[43m,\u001b[49m\u001b[38;5;241;43m2\u001b[39;49m\u001b[43m,\u001b[49m\u001b[38;5;241;43m1\u001b[39;49m\u001b[43m)\u001b[49m\u001b[43m)\u001b[49m\n",
      "\u001b[1;31mValueError\u001b[0m: cannot reshape array of size 16 into shape (2,2,1)"
     ]
    }
   ],
   "source": [
    "dark_image.reshape((2,2,1))"
   ]
  },
  {
   "cell_type": "code",
   "execution_count": null,
   "metadata": {},
   "outputs": [],
   "source": []
  }
 ],
 "metadata": {
  "kernelspec": {
   "display_name": "Python 3",
   "language": "python",
   "name": "python3"
  },
  "language_info": {
   "codemirror_mode": {
    "name": "ipython",
    "version": 3
   },
   "file_extension": ".py",
   "mimetype": "text/x-python",
   "name": "python",
   "nbconvert_exporter": "python",
   "pygments_lexer": "ipython3",
   "version": "3.11.6"
  }
 },
 "nbformat": 4,
 "nbformat_minor": 2
}
