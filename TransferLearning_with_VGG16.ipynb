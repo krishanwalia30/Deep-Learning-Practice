{
  "nbformat": 4,
  "nbformat_minor": 0,
  "metadata": {
    "colab": {
      "provenance": [],
      "gpuType": "T4"
    },
    "kernelspec": {
      "name": "python3",
      "display_name": "Python 3"
    },
    "language_info": {
      "name": "python"
    },
    "accelerator": "GPU"
  },
  "cells": [
    {
      "cell_type": "code",
      "execution_count": 1,
      "metadata": {
        "id": "nPLMBx6HdCPG"
      },
      "outputs": [],
      "source": [
        "from keras.layers import Input, Lambda, Dense, Flatten\n",
        "from keras.models import Model\n",
        "from keras.applications.vgg16 import VGG16\n",
        "from keras.applications.vgg16 import preprocess_input\n",
        "from keras.preprocessing import image\n",
        "from keras.preprocessing.image import ImageDataGenerator\n",
        "from keras.models import Sequential\n",
        "import numpy as np\n",
        "from glob import glob\n",
        "import matplotlib.pyplot as plt\n",
        "\n",
        "\n",
        "import tensorflow_datasets as tfds\n",
        "from tensorflow.keras.utils import to_categorical"
      ]
    },
    {
      "cell_type": "code",
      "source": [
        "(train_ds, train_labels), (test_ds, test_labels) = tfds.load(\n",
        "    \"tf_flowers\",\n",
        "    split=[\"train[:70%]\", \"train[:30%]\"],\n",
        "    batch_size = -1,\n",
        "    as_supervised = True\n",
        ")"
      ],
      "metadata": {
        "id": "jdwRZ3cblyhf"
      },
      "execution_count": 4,
      "outputs": []
    },
    {
      "cell_type": "code",
      "source": [
        "import tensorflow as tf\n",
        "## Resizing images\n",
        "train_ds = tf.image.resize(train_ds, (150, 150))\n",
        "test_ds = tf.image.resize(test_ds, (150, 150))\n",
        "\n",
        "## Transforming labels to correct format\n",
        "train_labels = to_categorical(train_labels, num_classes=5)\n",
        "test_labels = to_categorical(test_labels, num_classes=5)"
      ],
      "metadata": {
        "id": "srtqH-eNmq-d"
      },
      "execution_count": 6,
      "outputs": []
    },
    {
      "cell_type": "code",
      "source": [
        "vgg = VGG16(input_shape=train_ds[0].shape, weights='imagenet', include_top=False)\n",
        "vgg.trainable = False"
      ],
      "metadata": {
        "colab": {
          "base_uri": "https://localhost:8080/"
        },
        "id": "ElNkP4zYgPXz",
        "outputId": "8dbdafc8-c9bc-4f2b-bbe7-338c27efbc6f"
      },
      "execution_count": 7,
      "outputs": [
        {
          "output_type": "stream",
          "name": "stdout",
          "text": [
            "Downloading data from https://storage.googleapis.com/tensorflow/keras-applications/vgg16/vgg16_weights_tf_dim_ordering_tf_kernels_notop.h5\n",
            "58889256/58889256 [==============================] - 0s 0us/step\n"
          ]
        }
      ]
    },
    {
      "cell_type": "code",
      "source": [
        "train_ds = preprocess_input(train_ds)\n",
        "test_ds = preprocess_input(test_ds)"
      ],
      "metadata": {
        "id": "Hb5J29zwnR1b"
      },
      "execution_count": 8,
      "outputs": []
    },
    {
      "cell_type": "code",
      "source": [
        "vgg.summary()"
      ],
      "metadata": {
        "colab": {
          "base_uri": "https://localhost:8080/"
        },
        "id": "hve85OgFnhgz",
        "outputId": "79e8ebef-a94e-41fd-dd91-971237686bfe"
      },
      "execution_count": 9,
      "outputs": [
        {
          "output_type": "stream",
          "name": "stdout",
          "text": [
            "Model: \"vgg16\"\n",
            "_________________________________________________________________\n",
            " Layer (type)                Output Shape              Param #   \n",
            "=================================================================\n",
            " input_1 (InputLayer)        [(None, 150, 150, 3)]     0         \n",
            "                                                                 \n",
            " block1_conv1 (Conv2D)       (None, 150, 150, 64)      1792      \n",
            "                                                                 \n",
            " block1_conv2 (Conv2D)       (None, 150, 150, 64)      36928     \n",
            "                                                                 \n",
            " block1_pool (MaxPooling2D)  (None, 75, 75, 64)        0         \n",
            "                                                                 \n",
            " block2_conv1 (Conv2D)       (None, 75, 75, 128)       73856     \n",
            "                                                                 \n",
            " block2_conv2 (Conv2D)       (None, 75, 75, 128)       147584    \n",
            "                                                                 \n",
            " block2_pool (MaxPooling2D)  (None, 37, 37, 128)       0         \n",
            "                                                                 \n",
            " block3_conv1 (Conv2D)       (None, 37, 37, 256)       295168    \n",
            "                                                                 \n",
            " block3_conv2 (Conv2D)       (None, 37, 37, 256)       590080    \n",
            "                                                                 \n",
            " block3_conv3 (Conv2D)       (None, 37, 37, 256)       590080    \n",
            "                                                                 \n",
            " block3_pool (MaxPooling2D)  (None, 18, 18, 256)       0         \n",
            "                                                                 \n",
            " block4_conv1 (Conv2D)       (None, 18, 18, 512)       1180160   \n",
            "                                                                 \n",
            " block4_conv2 (Conv2D)       (None, 18, 18, 512)       2359808   \n",
            "                                                                 \n",
            " block4_conv3 (Conv2D)       (None, 18, 18, 512)       2359808   \n",
            "                                                                 \n",
            " block4_pool (MaxPooling2D)  (None, 9, 9, 512)         0         \n",
            "                                                                 \n",
            " block5_conv1 (Conv2D)       (None, 9, 9, 512)         2359808   \n",
            "                                                                 \n",
            " block5_conv2 (Conv2D)       (None, 9, 9, 512)         2359808   \n",
            "                                                                 \n",
            " block5_conv3 (Conv2D)       (None, 9, 9, 512)         2359808   \n",
            "                                                                 \n",
            " block5_pool (MaxPooling2D)  (None, 4, 4, 512)         0         \n",
            "                                                                 \n",
            "=================================================================\n",
            "Total params: 14714688 (56.13 MB)\n",
            "Trainable params: 0 (0.00 Byte)\n",
            "Non-trainable params: 14714688 (56.13 MB)\n",
            "_________________________________________________________________\n"
          ]
        }
      ]
    },
    {
      "cell_type": "code",
      "source": [
        "from tensorflow.keras import layers, models\n",
        "\n",
        "flatten_layer = layers.Flatten()\n",
        "dense_layer_1 = layers.Dense(50, activation='relu')\n",
        "dense_layer_2 = layers.Dense(20, activation='relu')\n",
        "prediction_layer = layers.Dense(5, activation='softmax')\n",
        "\n",
        "\n",
        "model = models.Sequential([\n",
        "    vgg,\n",
        "    flatten_layer,\n",
        "    dense_layer_1,\n",
        "    dense_layer_2,\n",
        "    prediction_layer\n",
        "])"
      ],
      "metadata": {
        "id": "9HyZcd4tnheJ"
      },
      "execution_count": 11,
      "outputs": []
    },
    {
      "cell_type": "code",
      "source": [
        "model.compile(optimizer = 'adam', loss = 'categorical_crossentropy', metrics = ['accuracy'])\n",
        "\n",
        "r = model.fit(train_ds, train_labels, epochs=25, validation_split=0.1, batch_size=32)"
      ],
      "metadata": {
        "colab": {
          "base_uri": "https://localhost:8080/"
        },
        "id": "JEL240UIoB05",
        "outputId": "83f7e671-75cc-4e3b-b769-b6f7b1c182cc"
      },
      "execution_count": 20,
      "outputs": [
        {
          "output_type": "stream",
          "name": "stdout",
          "text": [
            "Epoch 1/25\n",
            "73/73 [==============================] - 8s 90ms/step - loss: 0.0793 - accuracy: 0.9771 - val_loss: 1.7207 - val_accuracy: 0.7004\n",
            "Epoch 2/25\n",
            "73/73 [==============================] - 6s 77ms/step - loss: 0.1729 - accuracy: 0.9546 - val_loss: 1.6374 - val_accuracy: 0.7393\n",
            "Epoch 3/25\n",
            "73/73 [==============================] - 6s 79ms/step - loss: 0.1852 - accuracy: 0.9546 - val_loss: 2.1232 - val_accuracy: 0.7315\n",
            "Epoch 4/25\n",
            "73/73 [==============================] - 6s 79ms/step - loss: 0.1226 - accuracy: 0.9715 - val_loss: 1.8039 - val_accuracy: 0.7082\n",
            "Epoch 5/25\n",
            "73/73 [==============================] - 6s 77ms/step - loss: 0.0561 - accuracy: 0.9814 - val_loss: 2.0206 - val_accuracy: 0.7198\n",
            "Epoch 6/25\n",
            "73/73 [==============================] - 6s 78ms/step - loss: 0.0301 - accuracy: 0.9918 - val_loss: 2.1715 - val_accuracy: 0.7237\n",
            "Epoch 7/25\n",
            "73/73 [==============================] - 5s 75ms/step - loss: 0.0065 - accuracy: 0.9983 - val_loss: 2.0882 - val_accuracy: 0.7276\n",
            "Epoch 8/25\n",
            "73/73 [==============================] - 5s 75ms/step - loss: 0.0027 - accuracy: 0.9996 - val_loss: 2.0307 - val_accuracy: 0.7237\n",
            "Epoch 9/25\n",
            "73/73 [==============================] - 5s 74ms/step - loss: 8.8404e-04 - accuracy: 1.0000 - val_loss: 2.0262 - val_accuracy: 0.7393\n",
            "Epoch 10/25\n",
            "73/73 [==============================] - 5s 74ms/step - loss: 6.7317e-04 - accuracy: 1.0000 - val_loss: 2.0234 - val_accuracy: 0.7393\n",
            "Epoch 11/25\n",
            "73/73 [==============================] - 5s 74ms/step - loss: 5.8382e-04 - accuracy: 1.0000 - val_loss: 2.0137 - val_accuracy: 0.7393\n",
            "Epoch 12/25\n",
            "73/73 [==============================] - 5s 75ms/step - loss: 5.1865e-04 - accuracy: 1.0000 - val_loss: 2.0233 - val_accuracy: 0.7393\n",
            "Epoch 13/25\n",
            "73/73 [==============================] - 5s 74ms/step - loss: 4.7668e-04 - accuracy: 1.0000 - val_loss: 2.0183 - val_accuracy: 0.7393\n",
            "Epoch 14/25\n",
            "73/73 [==============================] - 5s 75ms/step - loss: 4.3336e-04 - accuracy: 1.0000 - val_loss: 2.0173 - val_accuracy: 0.7354\n",
            "Epoch 15/25\n",
            "73/73 [==============================] - 6s 76ms/step - loss: 4.0360e-04 - accuracy: 1.0000 - val_loss: 2.0221 - val_accuracy: 0.7393\n",
            "Epoch 16/25\n",
            "73/73 [==============================] - 5s 76ms/step - loss: 3.7309e-04 - accuracy: 1.0000 - val_loss: 2.0250 - val_accuracy: 0.7354\n",
            "Epoch 17/25\n",
            "73/73 [==============================] - 5s 75ms/step - loss: 3.4608e-04 - accuracy: 1.0000 - val_loss: 2.0271 - val_accuracy: 0.7354\n",
            "Epoch 18/25\n",
            "73/73 [==============================] - 5s 74ms/step - loss: 3.2511e-04 - accuracy: 1.0000 - val_loss: 2.0300 - val_accuracy: 0.7354\n",
            "Epoch 19/25\n",
            "73/73 [==============================] - 5s 75ms/step - loss: 3.0376e-04 - accuracy: 1.0000 - val_loss: 2.0321 - val_accuracy: 0.7393\n",
            "Epoch 20/25\n",
            "73/73 [==============================] - 6s 76ms/step - loss: 2.8583e-04 - accuracy: 1.0000 - val_loss: 2.0358 - val_accuracy: 0.7393\n",
            "Epoch 21/25\n",
            "73/73 [==============================] - 5s 74ms/step - loss: 2.6922e-04 - accuracy: 1.0000 - val_loss: 2.0430 - val_accuracy: 0.7393\n",
            "Epoch 22/25\n",
            "73/73 [==============================] - 5s 75ms/step - loss: 2.5475e-04 - accuracy: 1.0000 - val_loss: 2.0450 - val_accuracy: 0.7432\n",
            "Epoch 23/25\n",
            "73/73 [==============================] - 5s 74ms/step - loss: 2.4081e-04 - accuracy: 1.0000 - val_loss: 2.0480 - val_accuracy: 0.7432\n",
            "Epoch 24/25\n",
            "73/73 [==============================] - 5s 75ms/step - loss: 2.2825e-04 - accuracy: 1.0000 - val_loss: 2.0522 - val_accuracy: 0.7432\n",
            "Epoch 25/25\n",
            "73/73 [==============================] - 6s 76ms/step - loss: 2.1722e-04 - accuracy: 1.0000 - val_loss: 2.0553 - val_accuracy: 0.7432\n"
          ]
        }
      ]
    },
    {
      "cell_type": "code",
      "source": [
        "# accuracies\n",
        "plt.plot(r.history['accuracy'], label='train acc')\n",
        "plt.plot(r.history['val_accuracy'], label='val acc')\n",
        "plt.legend()\n",
        "plt.show()\n",
        "plt.savefig('AccVal_acc')"
      ],
      "metadata": {
        "colab": {
          "base_uri": "https://localhost:8080/",
          "height": 447
        },
        "id": "vWHV-AHRqkBj",
        "outputId": "ffb75310-eb11-407a-db6d-8986a5380ef0"
      },
      "execution_count": 23,
      "outputs": [
        {
          "output_type": "display_data",
          "data": {
            "text/plain": [
              "<Figure size 640x480 with 1 Axes>"
            ],
            "image/png": "[encoded data removed]"
          },
          "metadata": {}
        },
        {
          "output_type": "display_data",
          "data": {
            "text/plain": [
              "<Figure size 640x480 with 0 Axes>"
            ]
          },
          "metadata": {}
        }
      ]
    },
    {
      "cell_type": "code",
      "source": [
        "# Loss\n",
        "plt.plot(r.history['loss'], label='train loss')\n",
        "plt.plot(r.history['val_loss'], label='val loss')\n",
        "plt.legend()\n",
        "plt.show()\n",
        "plt.savefig('LossVal_loss')"
      ],
      "metadata": {
        "colab": {
          "base_uri": "https://localhost:8080/",
          "height": 447
        },
        "id": "u5gLZVhoqqAh",
        "outputId": "da23be04-f620-4408-922a-aced74c47e1d"
      },
      "execution_count": 24,
      "outputs": [
        {
          "output_type": "display_data",
          "data": {
            "text/plain": [
              "<Figure size 640x480 with 1 Axes>"
            ],
            "image/png": "[encoded data removed]"
          },
          "metadata": {}
        },
        {
          "output_type": "display_data",
          "data": {
            "text/plain": [
              "<Figure size 640x480 with 0 Axes>"
            ]
          },
          "metadata": {}
        }
      ]
    },
    {
      "cell_type": "code",
      "source": [
        "model.save('flower_detection_model.h5')"
      ],
      "metadata": {
        "id": "h_LiS6CQr65x"
      },
      "execution_count": 27,
      "outputs": []
    },
    {
      "cell_type": "markdown",
      "source": [
        "___________________"
      ],
      "metadata": {
        "id": "VHfu-tdKq9Nb"
      }
    }
  ]
}